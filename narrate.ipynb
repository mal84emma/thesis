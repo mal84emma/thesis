{
 "cells": [
  {
   "cell_type": "markdown",
   "id": "89fd852f",
   "metadata": {},
   "source": [
    "# Extract text from thesis PDF file and narrate"
   ]
  },
  {
   "cell_type": "markdown",
   "id": "bb14ff84",
   "metadata": {},
   "source": [
    "### Extract text from PDF file, remove document formatting, and save as plain text\n",
    "\n",
    "Note: thesis needs to have been compiled in `speech` mode, and `thesis.pdf` needs to have been moved to the root directory."
   ]
  },
  {
   "cell_type": "code",
   "execution_count": null,
   "id": "8eb5e5a0",
   "metadata": {},
   "outputs": [],
   "source": [
    "import re\n",
    "import fitz"
   ]
  },
  {
   "cell_type": "code",
   "execution_count": null,
   "id": "770678f6",
   "metadata": {},
   "outputs": [],
   "source": [
    "with fitz.open('thesis.pdf') as doc:\n",
    "    fulltext = \"\"\n",
    "    for page in doc:\n",
    "        text = page.get_text()\n",
    "        # remove spaces between words and punctuation\n",
    "        text = re.sub(r'(\\w)\\s([.,])', r'\\1\\2', text)\n",
    "        text = re.sub(r'(\\w);\\s([.,])', r'\\1\\2', text)\n",
    "        text = re.sub(r'(\\w)-\\n(\\w)', r'\\1\\2', text)\n",
    "        text = re.sub(r'([\\w,&])\\n(\\w)', r'\\1 \\2', text)\n",
    "\n",
    "        fulltext += text\n",
    "\n",
    "fulltext = re.sub(r'([\\w,])\\n(\\w)', r'\\1 \\2', fulltext)\n",
    "\n",
    "fulltext = fulltext.replace('Chap.', 'Chapter')\n",
    "fulltext = fulltext.replace('– ', '')\n",
    "fulltext = fulltext.replace('• ', '')\n",
    "\n",
    "with open('intro.txt', 'w', encoding='utf-8') as f:\n",
    "    f.write(fulltext)"
   ]
  },
  {
   "cell_type": "code",
   "execution_count": null,
   "id": "dff9a75b",
   "metadata": {},
   "outputs": [],
   "source": [
    "print(len(fulltext))\n",
    "print(fulltext[:1000])"
   ]
  },
  {
   "cell_type": "markdown",
   "id": "50da7a99",
   "metadata": {},
   "source": [
    "Split text into rough paragraphs for passing to the API. And make sure they adhere to the character limit."
   ]
  },
  {
   "cell_type": "code",
   "execution_count": null,
   "id": "a43c8477",
   "metadata": {},
   "outputs": [],
   "source": [
    "paragraphs = re.split('\\n', fulltext)\n",
    "\n",
    "max_len = max(len(p) for p in paragraphs)\n",
    "assert max_len < 10000, f\"Paragraphs are too long. Need to be less than 10,000 characters. Current max length: {max_len}\"\n",
    "\n",
    "print(paragraphs[:2])"
   ]
  },
  {
   "cell_type": "markdown",
   "id": "c0698239",
   "metadata": {},
   "source": [
    "Find the paragraphs at the start of each section to help with generating the audio bit by bit."
   ]
  },
  {
   "cell_type": "code",
   "execution_count": null,
   "id": "60d8b51a",
   "metadata": {},
   "outputs": [],
   "source": [
    "start_indices = []\n",
    "for i,p in enumerate(paragraphs):\n",
    "    if 'Section' in p:\n",
    "        start_indices.append(i)\n",
    "print(start_indices)"
   ]
  },
  {
   "cell_type": "markdown",
   "id": "050d779c",
   "metadata": {},
   "source": [
    "### Narrate text using ElevenLabs API, and save audio file.\n",
    "\n",
    "**Make sure to check the text is correct before narrating!**\n",
    "\n",
    "See https://elevenlabs.io/app/settings for more info.\n",
    "\n",
    "There's a lush Geordie voice here (https://elevenlabs.io/app/voice-library?voiceId=Nk0iUG137ZABNEQYgAMl), but it's quite expensive (too right lass!)"
   ]
  },
  {
   "cell_type": "code",
   "execution_count": null,
   "id": "8c4724e9",
   "metadata": {},
   "outputs": [],
   "source": [
    "import os\n",
    "from io import BytesIO\n",
    "from tqdm.notebook import tqdm\n",
    "from elevenlabs.client import ElevenLabs\n",
    "from elevenlabs import play, save"
   ]
  },
  {
   "cell_type": "code",
   "execution_count": null,
   "id": "9cb73fcc",
   "metadata": {},
   "outputs": [],
   "source": [
    "elevenlabs = ElevenLabs(\n",
    "  api_key=os.getenv(\"ELEVENLABS_API_KEY\"),\n",
    ")"
   ]
  },
  {
   "cell_type": "markdown",
   "id": "54e6dfa8",
   "metadata": {},
   "source": [
    "Perform text-to-speech conversion chunk by chunk due to character limit on requests. *Can provide previous request as context to improve intonation and continuity, but this uses loads more tokens, and isn't really necessary for this use case.*"
   ]
  },
  {
   "cell_type": "code",
   "execution_count": null,
   "id": "122cdea5",
   "metadata": {},
   "outputs": [],
   "source": [
    "audio_buffers = []\n",
    "prev_request_id = []\n",
    "\n",
    "paragraphs_selection = paragraphs\n",
    "\n",
    "for i,p in tqdm(enumerate(paragraphs_selection), total=len(paragraphs_selection)):\n",
    "    # Usually we get back a stream from the convert function, but with_raw_response is\n",
    "    # used to get the headers from the response\n",
    "    with elevenlabs.text_to_speech.with_raw_response.convert(\n",
    "        text=p,\n",
    "        voice_id=\"RKCbSROXui75bk1SVpy8\",\n",
    "        model_id=\"eleven_multilingual_v2\",\n",
    "        output_format=\"mp3_44100_64\",\n",
    "        #previous_request_ids=prev_request_id\n",
    "    ) as response:\n",
    "        #prev_request_id = [response._response.headers.get(\"request-id\")]\n",
    "        # response._response.headers also contains useful information like 'character-cost',\n",
    "        # which shows the cost of the generation in characters.\n",
    "\n",
    "        audio_data = b''.join(chunk for chunk in response.data)\n",
    "        audio_buffers.append(BytesIO(audio_data))\n",
    "\n",
    "        if i < len(paragraphs_selection) - 2:\n",
    "            if 'Section' in paragraphs_selection[i+1]: # save checkout at end of section\n",
    "                print(i)\n",
    "                combined_audio = BytesIO(b''.join(buffer.getvalue() for buffer in audio_buffers))\n",
    "                save(combined_audio,f'intro_cp{i}.mp3')\n",
    "\n",
    "combined_audio = BytesIO(b''.join(buffer.getvalue() for buffer in audio_buffers))\n",
    "save(combined_audio,'introduction.mp3')"
   ]
  }
 ],
 "metadata": {
  "kernelspec": {
   "display_name": "texnar",
   "language": "python",
   "name": "python3"
  },
  "language_info": {
   "codemirror_mode": {
    "name": "ipython",
    "version": 3
   },
   "file_extension": ".py",
   "mimetype": "text/x-python",
   "name": "python",
   "nbconvert_exporter": "python",
   "pygments_lexer": "ipython3",
   "version": "3.10.18"
  }
 },
 "nbformat": 4,
 "nbformat_minor": 5
}
