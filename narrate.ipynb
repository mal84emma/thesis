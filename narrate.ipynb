{
 "cells": [
  {
   "cell_type": "markdown",
   "id": "89fd852f",
   "metadata": {},
   "source": [
    "# Extract text from thesis PDF file and narrate"
   ]
  },
  {
   "cell_type": "markdown",
   "id": "458e9211",
   "metadata": {},
   "source": [
    "### Extract text from PDF file, remove document formatting, and save as plain text\n",
    "\n",
    "Note thesis needs to have been compiled in `speech` mode."
   ]
  },
  {
   "cell_type": "code",
   "execution_count": 1,
   "id": "8eb5e5a0",
   "metadata": {},
   "outputs": [],
   "source": [
    "import re\n",
    "import fitz"
   ]
  },
  {
   "cell_type": "code",
   "execution_count": 2,
   "id": "770678f6",
   "metadata": {},
   "outputs": [],
   "source": [
    "with fitz.open('thesis.pdf') as doc:\n",
    "    fulltext = \"\"\n",
    "    for page in doc:\n",
    "        text = page.get_text()\n",
    "        # remove spaces between words and punctuation\n",
    "        text = re.sub(r'(\\w)\\s([.,])', r'\\1\\2', text)\n",
    "        text = re.sub(r'(\\w);\\s([.,])', r'\\1\\2', text)\n",
    "        text = re.sub(r'(\\w)-\\n(\\w)', r'\\1\\2', text)\n",
    "        text = re.sub(r'([\\w,&])\\n(\\w)', r'\\1 \\2', text)\n",
    "\n",
    "        fulltext += text\n",
    "\n",
    "fulltext = re.sub(r'([\\w,])\\n(\\w)', r'\\1 \\2', fulltext)\n",
    "\n",
    "with open('thesis.txt', 'w', encoding='utf-8') as f:\n",
    "    f.write(fulltext)"
   ]
  },
  {
   "cell_type": "code",
   "execution_count": 3,
   "id": "2850351c",
   "metadata": {},
   "outputs": [
    {
     "name": "stdout",
     "output_type": "stream",
     "text": [
      "54311\n"
     ]
    }
   ],
   "source": [
    "print(len(fulltext))"
   ]
  },
  {
   "cell_type": "code",
   "execution_count": 4,
   "id": "dff9a75b",
   "metadata": {},
   "outputs": [
    {
     "name": "stdout",
     "output_type": "stream",
     "text": [
      "Chapter 1 Introduction.\n",
      "Decarbonisation is a truly enormous challenge. The UK and EU have committed to getting to net zero carbon emissions by 2050. There are lots of ways of slicing up the carbon pie.\n",
      "But from a scientific perspective, there are three broad areas to decarbonise: industrial processes, where chemists must figure out how to make the materials we need without producing CO2 along the way; agriculture, where biologists need to find ways to grow enough food without releasing CO2 and methane; and energy, where physicists and engineers have to produce the electricity and heat that support modern life without using fossil fuels.\n",
      "This all needs to be done at a cost that is low enough that society is willing to make the transition, and without ever interrupting supply. Imagine rebuilding your tennis racket out of new materials while making sure you stay in the rally.\n",
      "Within energy, many sectors such as heating and transportation plan to decarbonise by electrification (potentially\n"
     ]
    }
   ],
   "source": [
    "print(fulltext[:1000])"
   ]
  },
  {
   "cell_type": "markdown",
   "id": "50da7a99",
   "metadata": {},
   "source": [
    "Split text into rough paragraphs to fit inside request character limit."
   ]
  },
  {
   "cell_type": "code",
   "execution_count": 5,
   "id": "a43c8477",
   "metadata": {},
   "outputs": [
    {
     "name": "stdout",
     "output_type": "stream",
     "text": [
      "128\n",
      "['Chapter 1 Introduction.', 'Decarbonisation is a truly enormous challenge. The UK and EU have committed to getting to net zero carbon emissions by 2050. There are lots of ways of slicing up the carbon pie.', 'But from a scientific perspective, there are three broad areas to decarbonise: industrial processes, where chemists must figure out how to make the materials we need without producing CO2 along the way; agriculture, where biologists need to find ways to grow enough food without releasing CO2 and methane; and energy, where physicists and engineers have to produce the electricity and heat that support modern life without using fossil fuels.', 'This all needs to be done at a cost that is low enough that society is willing to make the transition, and without ever interrupting supply. Imagine rebuilding your tennis racket out of new materials while making sure you stay in the rally.', 'Within energy, many sectors such as heating and transportation plan to decarbonise by electrification (potentially using hydrogen to store and transport the energy). A key example of this is the shift towards using heat pumps for space heating. As a result, electricity demand is expected to increase by a factor 3 or 4 by 2050. Decarbonising this electricity will require vast amounts of renewable power generation to be integrated into the grid. It’s estimated that around 100 GW of wind and 60 GW of solar generation will need to be constructed in the UK by 2050. To support the new generation mix with mostly renewables, the grid will need to be redesigned to manage the variability of these new energy sources, and make sure electricity is available when it’s needed. Adapting the electricity system to overcome this challenge of security of supply will be costly, on top of the already hefty cost of building the renewables. It will require building new supporting infrastructure, primarily transmission lines and bulk energy storage, at scales rivaling the original construction of the power grids, and new methods for operating the grid to balance the system far more quickly and plan over horizons of months rather than days.']\n"
     ]
    }
   ],
   "source": [
    "paragraphs = re.split('\\n', fulltext)\n",
    "print(len(paragraphs))\n",
    "\n",
    "max_len = max(len(p) for p in paragraphs)\n",
    "assert max_len < 10000, f\"Paragraphs are too long. Need to be less than 10,000 characters. Current max length: {max_len}\"\n",
    "\n",
    "print(paragraphs[:5])"
   ]
  },
  {
   "cell_type": "markdown",
   "id": "050d779c",
   "metadata": {},
   "source": [
    "### Narrate text using ElevenLabs API, and save audio file.\n",
    "\n",
    "**Make sure to check the text is correct before narrating!**\n",
    "\n",
    "See https://elevenlabs.io/app/settings for more info."
   ]
  },
  {
   "cell_type": "code",
   "execution_count": 6,
   "id": "8c4724e9",
   "metadata": {},
   "outputs": [],
   "source": [
    "import os\n",
    "from io import BytesIO\n",
    "from dotenv import load_dotenv\n",
    "from elevenlabs.client import ElevenLabs\n",
    "from elevenlabs import play, save"
   ]
  },
  {
   "cell_type": "code",
   "execution_count": 7,
   "id": "9cb73fcc",
   "metadata": {},
   "outputs": [],
   "source": [
    "elevenlabs = ElevenLabs(\n",
    "  api_key=os.getenv(\"ELEVENLABS_API_KEY\"),\n",
    ")"
   ]
  },
  {
   "cell_type": "code",
   "execution_count": 8,
   "id": "1155bd06",
   "metadata": {},
   "outputs": [],
   "source": [
    "# audio = elevenlabs.text_to_speech.convert(\n",
    "#     text=fulltext[:300],\n",
    "#     voice_id=\"JBFqnCBsd6RMkjVDRZzb\",\n",
    "#     model_id=\"eleven_multilingual_v2\",\n",
    "#     output_format=\"mp3_44100_128\",\n",
    "# )"
   ]
  },
  {
   "cell_type": "markdown",
   "id": "54e6dfa8",
   "metadata": {},
   "source": [
    "Perform text-to-speech conversion chunk by chunk due to character limit on requests. Provide previous request as context to improve intonation and continuity.\n",
    "\n",
    "One concern is that doing is context might be using up much more tokens, which are in short supply.\n",
    "*Commenting out the `previous_request_ids` argument will disable this.*"
   ]
  },
  {
   "cell_type": "code",
   "execution_count": null,
   "id": "122cdea5",
   "metadata": {},
   "outputs": [],
   "source": [
    "prev_request_id = []\n",
    "audio_buffers = []\n",
    "\n",
    "for paragraph in paragraphs[:2]:\n",
    "    # Usually we get back a stream from the convert function, but with_raw_response is\n",
    "    # used to get the headers from the response\n",
    "    with elevenlabs.text_to_speech.with_raw_response.convert(\n",
    "        text=paragraph,\n",
    "        voice_id=\"JBFqnCBsd6RMkjVDRZzb\",\n",
    "        model_id=\"eleven_multilingual_v2\",\n",
    "        output_format=\"mp3_44100_64\",\n",
    "        previous_request_ids=prev_request_id\n",
    "    ) as response:\n",
    "        prev_request_id = [response._response.headers.get(\"request-id\")]\n",
    "\n",
    "        # response._response.headers also contains useful information like 'character-cost',\n",
    "        # which shows the cost of the generation in characters.\n",
    "\n",
    "        audio_data = b''.join(chunk for chunk in response.data)\n",
    "        audio_buffers.append(BytesIO(audio_data))\n",
    "\n",
    "combined_audio = BytesIO(b''.join(buffer.getvalue() for buffer in audio_buffers))"
   ]
  },
  {
   "cell_type": "code",
   "execution_count": 15,
   "id": "0bef9d95",
   "metadata": {},
   "outputs": [],
   "source": [
    "save(combined_audio,'introduction.mp3')"
   ]
  },
  {
   "cell_type": "code",
   "execution_count": null,
   "id": "6a1a32e1",
   "metadata": {},
   "outputs": [],
   "source": []
  }
 ],
 "metadata": {
  "kernelspec": {
   "display_name": "texnar",
   "language": "python",
   "name": "python3"
  },
  "language_info": {
   "codemirror_mode": {
    "name": "ipython",
    "version": 3
   },
   "file_extension": ".py",
   "mimetype": "text/x-python",
   "name": "python",
   "nbconvert_exporter": "python",
   "pygments_lexer": "ipython3",
   "version": "3.10.18"
  }
 },
 "nbformat": 4,
 "nbformat_minor": 5
}
